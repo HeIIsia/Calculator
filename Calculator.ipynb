{
 "cells": [
  {
   "cell_type": "code",
   "execution_count": 49,
   "id": "cc2dd360-4c06-41dd-aac2-5fd5d2f6b566",
   "metadata": {},
   "outputs": [
    {
     "name": "stderr",
     "output_type": "stream",
     "text": [
      "<>:4: SyntaxWarning: invalid escape sequence '\\|'\n",
      "<>:4: SyntaxWarning: invalid escape sequence '\\|'\n",
      "C:\\Users\\jsunw\\AppData\\Local\\Temp\\ipykernel_25008\\3409796306.py:4: SyntaxWarning: invalid escape sequence '\\|'\n",
      "  print(\"\"\"\n"
     ]
    }
   ],
   "source": [
    "from IPython.display import clear_output\n",
    "\n",
    "def draw_cover():\n",
    "    print(\"\"\" \n",
    " _____________________\n",
    "|  _________________  |\n",
    "| |              0. | |\n",
    "| |_________________| |\n",
    "|  ___ ___ ___   ___  |               _            _       _             \n",
    "| | 7 | 8 | 9 | | + | |              | |          | |     | |            \n",
    "| |___|___|___| |___| |      ___ __ _| | ___ _   _| | __ _| |_ ___  _ __ \n",
    "| | 4 | 5 | 6 | | - | |     / __/ _` | |/ __| | | | |/ _` | __/ _ \\| '__|\n",
    "| |___|___|___| |___| |    | (_| (_| | | (__| |_| | | (_| | || (_) | |   \n",
    "| | 1 | 2 | 3 | | x | |     \\___\\__,_|_|\\___|\\__,_|_|\\__,_|\\__\\___/|_|   \n",
    "| |___|___|___| |___| |\n",
    "| | . | 0 | = | | / | |\n",
    "| |___|___|___| |___| |\n",
    "|_____________________|\n",
    "            \"\"\")\n",
    "\n",
    "def add(num_1, num_2):\n",
    "    return num_1 + num_2\n",
    "\n",
    "def subtract(num_1, num_2):\n",
    "    return num_1 - num_2\n",
    "\n",
    "def multiply(num_1, num_2):\n",
    "    return num_1 * num_2\n",
    "\n",
    "def divide(num_1, num_2):\n",
    "    return num_1 / num_2\n",
    "\n",
    "\n",
    "def calculator():\n",
    "    \n",
    "    operations = {\n",
    "        \"+\" : add,\n",
    "        \"-\" : subtract,\n",
    "        \"*\" : multiply,\n",
    "        \"/\" : divide\n",
    "    }\n",
    "\n",
    "    keep_running = True # Continue running the app\n",
    "    keep_using_result = \"no\" # Continue with the last number or start over\n",
    "    \n",
    "    while keep_running: # The running loop\n",
    "\n",
    "        # Start over \n",
    "        if keep_using_result == \"no\":            \n",
    "            clear_output(wait=False) #Clear the old output\n",
    "            draw_cover()            \n",
    "            num_1 = int(input(\"What's the first number? \"))\n",
    "\n",
    "        # Continue with the result as num_1 \n",
    "        elif keep_using_result == \"yes\":          \n",
    "            num_1 = result\n",
    "\n",
    "        # In case of the wrong imput, repeat\n",
    "        else:           \n",
    "            keep_using_result = input(\"Continue working with the previous result? yes/no: \").lower() # Continue with the last number?\n",
    "            \n",
    "        operator = input(\"Pick an operation: \") # Select from +, -, *, /\n",
    "        num_2 = int(input(\"What's the second number? \"))        \n",
    "        result = operations[operator](num_1, num_2)\n",
    "        \n",
    "        print(f\"The result: {result}\")\n",
    "        \n",
    "        keep_using_result = input(\"Continue working with the previous result? yes/no: \").lower() # Continue with the last number?"
   ]
  },
  {
   "cell_type": "code",
   "execution_count": null,
   "id": "cde5611f-6277-4b3e-92bb-30955a1819a7",
   "metadata": {},
   "outputs": [
    {
     "name": "stdout",
     "output_type": "stream",
     "text": [
      " \n",
      " _____________________\n",
      "|  _________________  |\n",
      "| |              0. | |\n",
      "| |_________________| |\n",
      "|  ___ ___ ___   ___  |               _            _       _             \n",
      "| | 7 | 8 | 9 | | + | |              | |          | |     | |            \n",
      "| |___|___|___| |___| |      ___ __ _| | ___ _   _| | __ _| |_ ___  _ __ \n",
      "| | 4 | 5 | 6 | | - | |     / __/ _` | |/ __| | | | |/ _` | __/ _ \\| '__|\n",
      "| |___|___|___| |___| |    | (_| (_| | | (__| |_| | | (_| | || (_) | |   \n",
      "| | 1 | 2 | 3 | | x | |     \\___\\__,_|_|\\___|\\__,_|_|\\__,_|\\__\\___/|_|   \n",
      "| |___|___|___| |___| |\n",
      "| | . | 0 | = | | / | |\n",
      "| |___|___|___| |___| |\n",
      "|_____________________|\n",
      "            \n"
     ]
    }
   ],
   "source": [
    "calculator()"
   ]
  },
  {
   "cell_type": "code",
   "execution_count": null,
   "id": "75a65fbe-b881-455e-bab7-ca9c7429c233",
   "metadata": {},
   "outputs": [],
   "source": []
  }
 ],
 "metadata": {
  "kernelspec": {
   "display_name": "Python [conda env:base] *",
   "language": "python",
   "name": "conda-base-py"
  },
  "language_info": {
   "codemirror_mode": {
    "name": "ipython",
    "version": 3
   },
   "file_extension": ".py",
   "mimetype": "text/x-python",
   "name": "python",
   "nbconvert_exporter": "python",
   "pygments_lexer": "ipython3",
   "version": "3.12.7"
  }
 },
 "nbformat": 4,
 "nbformat_minor": 5
}
